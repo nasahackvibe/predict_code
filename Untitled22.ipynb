{
  "nbformat": 4,
  "nbformat_minor": 0,
  "metadata": {
    "colab": {
      "provenance": []
    },
    "kernelspec": {
      "name": "python3",
      "display_name": "Python 3"
    },
    "language_info": {
      "name": "python"
    }
  },
  "cells": [
    {
      "cell_type": "code",
      "execution_count": 7,
      "metadata": {
        "colab": {
          "base_uri": "https://localhost:8080/"
        },
        "id": "SLrIHBaGdNcp",
        "outputId": "f9eeb480-c91a-429a-f27a-3034d3e70309"
      },
      "outputs": [
        {
          "output_type": "stream",
          "name": "stdout",
          "text": [
            "Average Coordinates: Latitude=20.257533333333335, Longitude=76.78580000000001\n",
            "Soil data saved to soil_data.json\n"
          ]
        }
      ],
      "source": [
        "import requests\n",
        "import json\n",
        "\n",
        "def average_coordinates(coords):\n",
        "    \"\"\"Calculate the average latitude and longitude.\"\"\"\n",
        "    if not coords:\n",
        "        raise ValueError(\"Coordinate list is empty\")\n",
        "\n",
        "    avg_lat = sum(lat for lat, lon in coords) / len(coords)\n",
        "    avg_lon = sum(lon for lat, lon in coords) / len(coords)\n",
        "    return avg_lat, avg_lon\n",
        "\n",
        "def get_soilgrids_data(lat, lon):\n",
        "    \"\"\"Fetch soil data from ISRIC SoilGrids API for given lat, lon.\"\"\"\n",
        "    url = f\"https://rest.isric.org/soilgrids/v2.0/properties/query?lon={lon}&lat={lat}\"\n",
        "    response = requests.get(url)\n",
        "    if response.status_code == 200:\n",
        "        return response.json()\n",
        "    else:\n",
        "        raise Exception(f\"API request failed with status {response.status_code}: {response.text}\")\n",
        "\n",
        "def save_soil_data(data, filename=\"soil_data.json\"):\n",
        "    \"\"\"Save soil data JSON to a file.\"\"\"\n",
        "    with open(filename, \"w\") as f:\n",
        "        json.dump(data, f, indent=2)\n",
        "    print(f\"Soil data saved to {filename}\")\n",
        "\n",
        "def main():\n",
        "    # List your coordinates here (latitude,longitude)\n",
        "    coordinates = [\n",
        "        (28.6139, 77.2090),\n",
        "        (19.0760, 72.8777),\n",
        "        (13.0827, 80.2707)\n",
        "    ]\n",
        "\n",
        "    try:\n",
        "        avg_lat, avg_lon = average_coordinates(coordinates)\n",
        "        print(f\"Average Coordinates: Latitude={avg_lat}, Longitude={avg_lon}\")\n",
        "\n",
        "        soil_data = get_soilgrids_data(avg_lat, avg_lon)\n",
        "        save_soil_data(soil_data)\n",
        "\n",
        "    except Exception as e:\n",
        "        print(f\"Error: {e}\")\n",
        "\n",
        "if __name__ == \"__main__\":\n",
        "    main()\n"
      ]
    }
  ]
}